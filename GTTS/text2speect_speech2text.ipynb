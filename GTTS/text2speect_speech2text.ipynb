{
 "cells": [
  {
   "cell_type": "code",
   "execution_count": null,
   "metadata": {},
   "outputs": [],
   "source": [
    "##Text to Speech ENGLISH"
   ]
  },
  {
   "cell_type": "code",
   "execution_count": 1,
   "metadata": {},
   "outputs": [
    {
     "name": "stdout",
     "output_type": "stream",
     "text": [
      "Requirement already satisfied: gTTS in c:\\users\\suresh\\anaconda3\\lib\\site-packages (2.1.1)\n",
      "Requirement already satisfied: gtts-token>=1.1.3 in c:\\users\\suresh\\anaconda3\\lib\\site-packages (from gTTS) (1.1.3)\n",
      "Requirement already satisfied: beautifulsoup4 in c:\\users\\suresh\\anaconda3\\lib\\site-packages (from gTTS) (4.9.1)\n",
      "Requirement already satisfied: requests in c:\\users\\suresh\\anaconda3\\lib\\site-packages (from gTTS) (2.22.0)\n",
      "Requirement already satisfied: six in c:\\users\\suresh\\anaconda3\\lib\\site-packages (from gTTS) (1.14.0)\n",
      "Requirement already satisfied: click in c:\\users\\suresh\\anaconda3\\lib\\site-packages (from gTTS) (7.0)\n",
      "Requirement already satisfied: soupsieve>1.2 in c:\\users\\suresh\\anaconda3\\lib\\site-packages (from beautifulsoup4->gTTS) (1.9.5)\n",
      "Requirement already satisfied: idna<2.9,>=2.5 in c:\\users\\suresh\\anaconda3\\lib\\site-packages (from requests->gTTS) (2.8)\n",
      "Requirement already satisfied: certifi>=2017.4.17 in c:\\users\\suresh\\anaconda3\\lib\\site-packages (from requests->gTTS) (2019.11.28)\n",
      "Requirement already satisfied: urllib3!=1.25.0,!=1.25.1,<1.26,>=1.21.1 in c:\\users\\suresh\\anaconda3\\lib\\site-packages (from requests->gTTS) (1.25.8)\n",
      "Requirement already satisfied: chardet<3.1.0,>=3.0.2 in c:\\users\\suresh\\anaconda3\\lib\\site-packages (from requests->gTTS) (3.0.4)\n"
     ]
    }
   ],
   "source": [
    "!pip install gTTS"
   ]
  },
  {
   "cell_type": "code",
   "execution_count": 2,
   "metadata": {},
   "outputs": [],
   "source": [
    "# import the module\n",
    "from gtts import gTTS"
   ]
  },
  {
   "cell_type": "code",
   "execution_count": 3,
   "metadata": {},
   "outputs": [],
   "source": [
    "# Text Data\n",
    "text=\"Chennai, the capital of Tamil Nadu, is known as the gateway to South India. This city has a population of about 10 million people, making it India's fifth largest city after Mumbai, Delhi, Kolkata, and Bangalore.\""
   ]
  },
  {
   "cell_type": "code",
   "execution_count": 4,
   "metadata": {},
   "outputs": [
    {
     "data": {
      "text/plain": [
       "\"Chennai, the capital of Tamil Nadu, is known as the gateway to South India. This city has a population of about 10 million people, making it India's fifth largest city after Mumbai, Delhi, Kolkata, and Bangalore.\""
      ]
     },
     "execution_count": 4,
     "metadata": {},
     "output_type": "execute_result"
    }
   ],
   "source": [
    "text"
   ]
  },
  {
   "cell_type": "code",
   "execution_count": 5,
   "metadata": {},
   "outputs": [],
   "source": [
    "language='en'"
   ]
  },
  {
   "cell_type": "code",
   "execution_count": 6,
   "metadata": {},
   "outputs": [],
   "source": [
    "# Passing the text data\n",
    "myobj=gTTS(text=text, lang=language, slow = False)"
   ]
  },
  {
   "cell_type": "code",
   "execution_count": 7,
   "metadata": {},
   "outputs": [],
   "source": [
    "myobj.save(\"eng.mp3\")"
   ]
  },
  {
   "cell_type": "code",
   "execution_count": null,
   "metadata": {},
   "outputs": [],
   "source": [
    "##Text to Speech HINDI"
   ]
  },
  {
   "cell_type": "code",
   "execution_count": 8,
   "metadata": {},
   "outputs": [],
   "source": [
    "hitext=\"चेन्नई (पूर्व नाम मद्रास) बंगाल की खाड़ी के कोरोमंडल तट पर स्थित यह दक्षिण भारत के सबसे बड़े सांस्कृतिक, आर्थिक और शैक्षिक केंद्रों में से सबसे प्रमुख है। चेन्नई भारतीय राज्य तमिलनाडु की राजधानी है। 2011 की भारतीय जनगणना (चेन्नई शहर की नई सीमाओं के लिए समायोजित) के अनुसार, यह चौथा सबसे बड़ा शहर है और भारत में चौथा सबसे अधिक आबादी वाला शहरी ढांचा है। आस-पास के क्षेत्रों के साथ शहर चेन्नई मेट्रोपॉलिटन एरिया है, जो दुनिया की जनसंख्या के अनुसार 36 वां सबसे बड़ा शहरी क्षेत्र है।\""
   ]
  },
  {
   "cell_type": "code",
   "execution_count": 9,
   "metadata": {},
   "outputs": [
    {
     "data": {
      "text/plain": [
       "'चेन्नई (पूर्व नाम मद्रास) बंगाल की खाड़ी के कोरोमंडल तट पर स्थित यह दक्षिण भारत के सबसे बड़े सांस्कृतिक, आर्थिक और शैक्षिक केंद्रों में से सबसे प्रमुख है। चेन्नई भारतीय राज्य तमिलनाडु की राजधानी है। 2011 की भारतीय जनगणना (चेन्नई शहर की नई सीमाओं के लिए समायोजित) के अनुसार, यह चौथा सबसे बड़ा शहर है और भारत में चौथा सबसे अधिक आबादी वाला शहरी ढांचा है। आस-पास के क्षेत्रों के साथ शहर चेन्नई मेट्रोपॉलिटन एरिया है, जो दुनिया की जनसंख्या के अनुसार 36 वां सबसे बड़ा शहरी क्षेत्र है।'"
      ]
     },
     "execution_count": 9,
     "metadata": {},
     "output_type": "execute_result"
    }
   ],
   "source": [
    "hitext"
   ]
  },
  {
   "cell_type": "code",
   "execution_count": 10,
   "metadata": {},
   "outputs": [],
   "source": [
    "language='hi'"
   ]
  },
  {
   "cell_type": "code",
   "execution_count": 11,
   "metadata": {},
   "outputs": [],
   "source": [
    "# Passing the text data\n",
    "myobj=gTTS(text=hitext, lang=language, slow = False)"
   ]
  },
  {
   "cell_type": "code",
   "execution_count": 12,
   "metadata": {},
   "outputs": [],
   "source": [
    "myobj.save(\"hindi.mp3\")"
   ]
  },
  {
   "cell_type": "code",
   "execution_count": null,
   "metadata": {},
   "outputs": [],
   "source": [
    "##Text to Speech TAMIL"
   ]
  },
  {
   "cell_type": "code",
   "execution_count": 13,
   "metadata": {},
   "outputs": [],
   "source": [
    "tatext=\"சென்னை தமிழ்நாட்டின் தலைநகரமும், இந்தியாவின் நான்காவது பெரிய நகரமும் ஆகும். 1996 ஆம் ஆண்டுக்கு முன்னர் இந்நகரம், மதராசு பட்டினம், மெட்ராஸ் மற்றும் சென்னப்பட்டினம் என்றும் அழைக்கப்பட்டு வந்தது. சென்னை, வங்காள விரிகுடாவின் கரையில் அமைந்த துறைமுக நகரங்களுள் ஒன்று. சுமார் 10 மில்லியன் (ஒரு கோடி) மக்கள் வாழும் இந்நகரம், உலகின் 35 பெரிய மாநகரங்களுள் ஒன்று. 17ஆம் நூற்றாண்டில் ஆங்கிலேயர் சென்னையில் கால் பதித்தது முதல், சென்னை நகரம் ஒரு முக்கிய நகரமாக வளர்ந்து வந்திருக்கிறது.\""
   ]
  },
  {
   "cell_type": "code",
   "execution_count": 14,
   "metadata": {},
   "outputs": [
    {
     "data": {
      "text/plain": [
       "'சென்னை தமிழ்நாட்டின் தலைநகரமும், இந்தியாவின் நான்காவது பெரிய நகரமும் ஆகும். 1996 ஆம் ஆண்டுக்கு முன்னர் இந்நகரம், மதராசு பட்டினம், மெட்ராஸ் மற்றும் சென்னப்பட்டினம் என்றும் அழைக்கப்பட்டு வந்தது. சென்னை, வங்காள விரிகுடாவின் கரையில் அமைந்த துறைமுக நகரங்களுள் ஒன்று. சுமார் 10 மில்லியன் (ஒரு கோடி) மக்கள் வாழும் இந்நகரம், உலகின் 35 பெரிய மாநகரங்களுள் ஒன்று. 17ஆம் நூற்றாண்டில் ஆங்கிலேயர் சென்னையில் கால் பதித்தது முதல், சென்னை நகரம் ஒரு முக்கிய நகரமாக வளர்ந்து வந்திருக்கிறது.'"
      ]
     },
     "execution_count": 14,
     "metadata": {},
     "output_type": "execute_result"
    }
   ],
   "source": [
    "tatext"
   ]
  },
  {
   "cell_type": "code",
   "execution_count": 15,
   "metadata": {},
   "outputs": [],
   "source": [
    "language='ta'"
   ]
  },
  {
   "cell_type": "code",
   "execution_count": 16,
   "metadata": {},
   "outputs": [],
   "source": [
    "# Passing the text data\n",
    "myobj=gTTS(text=tatext, lang=language, slow = False)"
   ]
  },
  {
   "cell_type": "code",
   "execution_count": 17,
   "metadata": {},
   "outputs": [],
   "source": [
    "myobj.save(\"tamil.mp3\")"
   ]
  },
  {
   "cell_type": "code",
   "execution_count": null,
   "metadata": {},
   "outputs": [],
   "source": [
    "##Speech to text ENGLISH"
   ]
  },
  {
   "cell_type": "code",
   "execution_count": 18,
   "metadata": {},
   "outputs": [],
   "source": [
    "import speech_recognition as sr\n",
    "import pyaudio"
   ]
  },
  {
   "cell_type": "code",
   "execution_count": 19,
   "metadata": {},
   "outputs": [],
   "source": [
    "r = sr.Recognizer()"
   ]
  },
  {
   "cell_type": "code",
   "execution_count": 21,
   "metadata": {},
   "outputs": [
    {
     "name": "stdout",
     "output_type": "stream",
     "text": [
      "Please say something...\n",
      "Recognizing...\n",
      "Chennai the capital of Tamil Nadu is known as the gateway to South India this city has a population of about 10 million people making it India 5th largest city after by Delhi Kolkata and Bangalore\n"
     ]
    }
   ],
   "source": [
    "with sr.Microphone() as source:\n",
    "    # read the audio data from the default microphone\n",
    "    print(\"Please say something...\")\n",
    "    audio_data = r.record(source, duration=20)\n",
    "    print(\"Recognizing...\")\n",
    "    # convert speech to text\n",
    "    text = r.recognize_google(audio_data)\n",
    "    print(text)"
   ]
  },
  {
   "cell_type": "code",
   "execution_count": null,
   "metadata": {},
   "outputs": [],
   "source": [
    "##Speech to text TAMIL"
   ]
  },
  {
   "cell_type": "code",
   "execution_count": 22,
   "metadata": {},
   "outputs": [
    {
     "name": "stdout",
     "output_type": "stream",
     "text": [
      "Please say something...\n",
      "Recognizing...\n",
      "சென்னை தமிழ்நாட்டின் தலைநகரமும் இந்தியாவின் நான்காவது பெரிய நகரமும் ஆகும் 1996 ஆம் ஆண்டுக்கு முன்னர் இந்நகரம் மதராசபட்டினம் மெட்ராஸ் மற்றும் சென்னை பொருத்தம் என்று அழைக்கப்பட்டு வந்தது சென்னை வங்காள\n"
     ]
    }
   ],
   "source": [
    "with sr.Microphone() as source:\n",
    "    # read the audio data from the default microphone\n",
    "    print(\"Please say something...\")\n",
    "    audio_data = r.record(source, duration=20)\n",
    "    print(\"Recognizing...\")\n",
    "    # convert speech to text\n",
    "    text = r.recognize_google(audio_data, language = \"ta-IN\")\n",
    "    print(text)"
   ]
  },
  {
   "cell_type": "code",
   "execution_count": null,
   "metadata": {},
   "outputs": [],
   "source": [
    "##Speech to text HINDI"
   ]
  },
  {
   "cell_type": "code",
   "execution_count": 23,
   "metadata": {},
   "outputs": [
    {
     "name": "stdout",
     "output_type": "stream",
     "text": [
      "Please say something...\n",
      "Recognizing...\n",
      "चेन्नई पूर्व नाम मद्रास बंगाल की खाड़ी के कोरोमंडल तट पर स्थित यह दक्षिण भारत के सबसे बड़े सांस्कृतिक आर्थिक और शैक्षिक केंद्रों में से सबसे प्रमुख है चेन्नई भारतीय राज्य तमिलनाडु की राजधानी है 2011 की भारतीय जनगणना चेन्नई शहर की नई सीमाओं के\n"
     ]
    }
   ],
   "source": [
    "with sr.Microphone() as source:\n",
    "    # read the audio data from the default microphone\n",
    "    print(\"Please say something...\")\n",
    "    audio_data = r.record(source, duration=20)\n",
    "    print(\"Recognizing...\")\n",
    "    # convert speech to text\n",
    "    text = r.recognize_google(audio_data, language = \"hi-IN\")\n",
    "    print(text)"
   ]
  },
  {
   "cell_type": "code",
   "execution_count": null,
   "metadata": {},
   "outputs": [],
   "source": []
  }
 ],
 "metadata": {
  "kernelspec": {
   "display_name": "Python 3",
   "language": "python",
   "name": "python3"
  },
  "language_info": {
   "codemirror_mode": {
    "name": "ipython",
    "version": 3
   },
   "file_extension": ".py",
   "mimetype": "text/x-python",
   "name": "python",
   "nbconvert_exporter": "python",
   "pygments_lexer": "ipython3",
   "version": "3.7.6"
  }
 },
 "nbformat": 4,
 "nbformat_minor": 4
}
